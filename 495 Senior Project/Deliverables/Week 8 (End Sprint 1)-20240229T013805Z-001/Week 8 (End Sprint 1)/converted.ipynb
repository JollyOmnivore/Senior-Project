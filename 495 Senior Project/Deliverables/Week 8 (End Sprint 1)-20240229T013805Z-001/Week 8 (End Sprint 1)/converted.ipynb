{
 "cells": [
  {
   "cell_type": "code",
   "execution_count": 29,
   "metadata": {},
   "outputs": [
    {
     "ename": "TypeError",
     "evalue": "unsupported operand type(s) for ^: 'int' and 'float'",
     "output_type": "error",
     "traceback": [
      "\u001b[1;31m---------------------------------------------------------------------------\u001b[0m",
      "\u001b[1;31mTypeError\u001b[0m                                 Traceback (most recent call last)",
      "\u001b[1;32m~\\AppData\\Local\\Temp\\ipykernel_48240\\1384470738.py\u001b[0m in \u001b[0;36m<module>\u001b[1;34m\u001b[0m\n\u001b[0;32m     18\u001b[0m \u001b[1;31m#print(2*math.log(numVoters,10))\u001b[0m\u001b[1;33m\u001b[0m\u001b[1;33m\u001b[0m\u001b[0m\n\u001b[0;32m     19\u001b[0m \u001b[1;33m\u001b[0m\u001b[0m\n\u001b[1;32m---> 20\u001b[1;33m \u001b[0mnum1\u001b[0m \u001b[1;33m=\u001b[0m \u001b[1;33m(\u001b[0m\u001b[1;36m10\u001b[0m\u001b[1;33m^\u001b[0m\u001b[1;33m(\u001b[0m\u001b[0mcandidates\u001b[0m\u001b[1;33m/\u001b[0m\u001b[1;36m2\u001b[0m\u001b[1;33m*\u001b[0m\u001b[0mmath\u001b[0m\u001b[1;33m.\u001b[0m\u001b[0mlog10\u001b[0m\u001b[1;33m(\u001b[0m\u001b[0mnumVoters\u001b[0m\u001b[1;33m)\u001b[0m\u001b[1;33m)\u001b[0m\u001b[1;33m)\u001b[0m\u001b[1;33m\u001b[0m\u001b[1;33m\u001b[0m\u001b[0m\n\u001b[0m\u001b[0;32m     21\u001b[0m \u001b[1;33m\u001b[0m\u001b[0m\n\u001b[0;32m     22\u001b[0m \u001b[0mprint\u001b[0m\u001b[1;33m(\u001b[0m\u001b[0mnum1\u001b[0m\u001b[1;33m)\u001b[0m\u001b[1;33m\u001b[0m\u001b[1;33m\u001b[0m\u001b[0m\n",
      "\u001b[1;31mTypeError\u001b[0m: unsupported operand type(s) for ^: 'int' and 'float'"
     ]
    }
   ],
   "source": [
    "# Easily adjust number of candidates and number of voters.  Best to use 99 as opposed to 100.\n",
    "import random\n",
    "import math\n",
    "candidates=4;\n",
    "numVoters=99;\n",
    "#function I made to get all primes between lower and upper\n",
    "def prime_range(lower,upper):\n",
    "    range = []\n",
    "    for num in range(lower, upper + 1):\n",
    "       # all prime numbers are greater than 1\n",
    "       if num > 1:\n",
    "           for i in range(2, num):\n",
    "               if (num % i) == 0:\n",
    "                   break\n",
    "           else:\n",
    "                range.append(num)\n",
    "                print(num)\n",
    "#print(2*math.log(numVoters,10))\n",
    "\n",
    "num1 = (10^(candidates/2*math.log10(numVoters)))\n",
    "        \n",
    "print(num1)\n",
    "        \n",
    "num2 = 10^(candidates/2*math.log10(numVoters)+1)\n",
    "print(num2)\n",
    "        \n",
    "#this is awful had to import math and getting type errors\n",
    "l=prime_range(10^(candidates/2*math.log10(numVoters,10)), 10^(candidates/2*math.log10(numVoters,10)+1));\n",
    "#TypeError: unsupported operand type(s) for ^: 'int' and 'float'\n",
    "#l should return as a list \n",
    "p=l[randrange(len(l))];\n",
    "q=l[randrange(len(l))];\n",
    "while p==q:\n",
    "    q=l[randrange(len(l))]\n",
    "n=p*q;\n",
    "lam=(p-1)*(q-1);\n",
    "mu=inverse_mod(lam,n);\n",
    "# Check that \"good\" primes are selected.  Always works for primes of same size, but I haven't proven this yet.\n",
    "gcd(n,(p-1)*(q-1))"
   ]
  },
  {
   "cell_type": "code",
   "execution_count": null,
   "metadata": {},
   "outputs": [],
   "source": []
  },
  {
   "cell_type": "code",
   "execution_count": 0,
   "metadata": {},
   "outputs": [],
   "source": [
    "#Public information\n",
    "n"
   ]
  },
  {
   "cell_type": "code",
   "execution_count": 2,
   "metadata": {},
   "outputs": [
    {
     "ename": "SyntaxError",
     "evalue": "cannot assign to function call (124329359.py, line 6)",
     "output_type": "error",
     "traceback": [
      "\u001b[1;36m  File \u001b[1;32m\"C:\\Users\\carte\\AppData\\Local\\Temp\\ipykernel_48240\\124329359.py\"\u001b[1;36m, line \u001b[1;32m6\u001b[0m\n\u001b[1;33m    Share(x)=pow.dot_product(coeff)\u001b[0m\n\u001b[1;37m    ^\u001b[0m\n\u001b[1;31mSyntaxError\u001b[0m\u001b[1;31m:\u001b[0m cannot assign to function call\n"
     ]
    }
   ],
   "source": [
    "# Shares distributed to candidates for threshold decryption\n",
    "pow=vector([x^i for i in range(candidates)])\n",
    "l=[randrange(n) for i in range(candidates-1)]\n",
    "l.insert(0,p)\n",
    "coeff=vector(l)\n",
    "Share(x)=pow.dot_product(coeff)\n",
    "[(i,Share(i)) for i in range(1,candidates+1)]"
   ]
  },
  {
   "cell_type": "code",
   "execution_count": 4,
   "metadata": {},
   "outputs": [
    {
     "ename": "NameError",
     "evalue": "name 'randrange' is not defined",
     "output_type": "error",
     "traceback": [
      "\u001b[1;31m---------------------------------------------------------------------------\u001b[0m",
      "\u001b[1;31mNameError\u001b[0m                                 Traceback (most recent call last)",
      "\u001b[1;32m~\\AppData\\Local\\Temp\\ipykernel_48240\\1721504442.py\u001b[0m in \u001b[0;36m<module>\u001b[1;34m\u001b[0m\n\u001b[0;32m     27\u001b[0m             \u001b[1;32mreturn\u001b[0m\u001b[1;33m(\u001b[0m\u001b[1;36m4\u001b[0m\u001b[1;33m)\u001b[0m\u001b[1;33m\u001b[0m\u001b[1;33m\u001b[0m\u001b[0m\n\u001b[0;32m     28\u001b[0m \u001b[1;33m\u001b[0m\u001b[0m\n\u001b[1;32m---> 29\u001b[1;33m \u001b[0mvotesSamp1\u001b[0m\u001b[1;33m=\u001b[0m\u001b[1;33m[\u001b[0m\u001b[0mrandrange\u001b[0m\u001b[1;33m(\u001b[0m\u001b[1;36m5\u001b[0m\u001b[1;33m)\u001b[0m \u001b[1;32mfor\u001b[0m \u001b[0mi\u001b[0m \u001b[1;32min\u001b[0m \u001b[0mrange\u001b[0m\u001b[1;33m(\u001b[0m\u001b[1;36m10\u001b[0m\u001b[1;33m)\u001b[0m\u001b[1;33m]\u001b[0m\u001b[1;33m\u001b[0m\u001b[1;33m\u001b[0m\u001b[0m\n\u001b[0m\u001b[0;32m     30\u001b[0m \u001b[0mprint\u001b[0m\u001b[1;33m(\u001b[0m\u001b[0mvotesSamp1\u001b[0m\u001b[1;33m)\u001b[0m\u001b[1;33m\u001b[0m\u001b[1;33m\u001b[0m\u001b[0m\n\u001b[0;32m     31\u001b[0m \u001b[0mencVotesSamp1\u001b[0m\u001b[1;33m=\u001b[0m\u001b[1;33m[\u001b[0m\u001b[0mencVote\u001b[0m\u001b[1;33m(\u001b[0m\u001b[0mvotesSamp1\u001b[0m\u001b[1;33m[\u001b[0m\u001b[0mi\u001b[0m\u001b[1;33m]\u001b[0m\u001b[1;33m)\u001b[0m \u001b[1;32mfor\u001b[0m \u001b[0mi\u001b[0m \u001b[1;32min\u001b[0m \u001b[0mrange\u001b[0m\u001b[1;33m(\u001b[0m\u001b[0mlen\u001b[0m\u001b[1;33m(\u001b[0m\u001b[0mvotesSamp1\u001b[0m\u001b[1;33m)\u001b[0m\u001b[1;33m)\u001b[0m\u001b[1;33m]\u001b[0m\u001b[1;33m\u001b[0m\u001b[1;33m\u001b[0m\u001b[0m\n",
      "\u001b[1;32m~\\AppData\\Local\\Temp\\ipykernel_48240\\1721504442.py\u001b[0m in \u001b[0;36m<listcomp>\u001b[1;34m(.0)\u001b[0m\n\u001b[0;32m     27\u001b[0m             \u001b[1;32mreturn\u001b[0m\u001b[1;33m(\u001b[0m\u001b[1;36m4\u001b[0m\u001b[1;33m)\u001b[0m\u001b[1;33m\u001b[0m\u001b[1;33m\u001b[0m\u001b[0m\n\u001b[0;32m     28\u001b[0m \u001b[1;33m\u001b[0m\u001b[0m\n\u001b[1;32m---> 29\u001b[1;33m \u001b[0mvotesSamp1\u001b[0m\u001b[1;33m=\u001b[0m\u001b[1;33m[\u001b[0m\u001b[0mrandrange\u001b[0m\u001b[1;33m(\u001b[0m\u001b[1;36m5\u001b[0m\u001b[1;33m)\u001b[0m \u001b[1;32mfor\u001b[0m \u001b[0mi\u001b[0m \u001b[1;32min\u001b[0m \u001b[0mrange\u001b[0m\u001b[1;33m(\u001b[0m\u001b[1;36m10\u001b[0m\u001b[1;33m)\u001b[0m\u001b[1;33m]\u001b[0m\u001b[1;33m\u001b[0m\u001b[1;33m\u001b[0m\u001b[0m\n\u001b[0m\u001b[0;32m     30\u001b[0m \u001b[0mprint\u001b[0m\u001b[1;33m(\u001b[0m\u001b[0mvotesSamp1\u001b[0m\u001b[1;33m)\u001b[0m\u001b[1;33m\u001b[0m\u001b[1;33m\u001b[0m\u001b[0m\n\u001b[0;32m     31\u001b[0m \u001b[0mencVotesSamp1\u001b[0m\u001b[1;33m=\u001b[0m\u001b[1;33m[\u001b[0m\u001b[0mencVote\u001b[0m\u001b[1;33m(\u001b[0m\u001b[0mvotesSamp1\u001b[0m\u001b[1;33m[\u001b[0m\u001b[0mi\u001b[0m\u001b[1;33m]\u001b[0m\u001b[1;33m)\u001b[0m \u001b[1;32mfor\u001b[0m \u001b[0mi\u001b[0m \u001b[1;32min\u001b[0m \u001b[0mrange\u001b[0m\u001b[1;33m(\u001b[0m\u001b[0mlen\u001b[0m\u001b[1;33m(\u001b[0m\u001b[0mvotesSamp1\u001b[0m\u001b[1;33m)\u001b[0m\u001b[1;33m)\u001b[0m\u001b[1;33m]\u001b[0m\u001b[1;33m\u001b[0m\u001b[1;33m\u001b[0m\u001b[0m\n",
      "\u001b[1;31mNameError\u001b[0m: name 'randrange' is not defined"
     ]
    }
   ],
   "source": [
    "# Believe that your vote counts\n",
    "def messVote(x):\n",
    "    if x==0:\n",
    "            return(0)\n",
    "    if x==1:\n",
    "            return(1)\n",
    "    if x==2:\n",
    "            return(10^2)\n",
    "    if x==3:\n",
    "            return(10^4)\n",
    "    else:\n",
    "            return(10^6)\n",
    "def encVote(x):\n",
    "    return ((n+1)^messVote(x) * power_mod(randrange(n),n,n^2)) % n^2\n",
    "def decVote(x):\n",
    "    return mod(((power_mod(x,lam,n^2)-1)/n) * mu, n)\n",
    "def intVote(x):\n",
    "    if decVote(x)==0:\n",
    "            return(0)\n",
    "    if decVote(x)==1:\n",
    "            return(1)\n",
    "    if decVote(x)==10^2:\n",
    "            return(2)\n",
    "    if decVote(x)==10^4:\n",
    "            return(3)\n",
    "    else:\n",
    "            return(4)\n",
    "\n",
    "votesSamp1=[randrange(5) for i in range(10)]\n",
    "print(votesSamp1)\n",
    "encVotesSamp1=[encVote(votesSamp1[i]) for i in range(len(votesSamp1))]\n",
    "print(encVotesSamp1)\n",
    "print([decVote(encVotesSamp1[i]) for i in range(len(votesSamp1))])\n",
    "[gcd(encVotesSamp1[i],n^2) for i in range(len(votesSamp1))]\n",
    "mod(product(encVotesSamp1),n^2)\n",
    "decVote(product(encVotesSamp1))"
   ]
  },
  {
   "cell_type": "code",
   "execution_count": 0,
   "metadata": {},
   "outputs": [],
   "source": [
    "decVote(17469713903057716755)"
   ]
  },
  {
   "cell_type": "code",
   "execution_count": 0,
   "metadata": {},
   "outputs": [],
   "source": [
    "# Public Bulletin. Column 1 is the Voter and Column 2 is their encrypted vote\n",
    "BulletinVote=[encVote(randrange(5)) for i in range(numVoters-1)]\n",
    "BulletinVote.insert(0,encVotes[0])\n",
    "#BulletinVote.insert(0,\"Encrypted Vote\")\n",
    "BulletinCandidate=[i for i in range(1,numVoters+1)]\n",
    "#BulletinCandidate.insert(0,\"Candidate\")\n",
    "A=matrix([BulletinCandidate,BulletinVote])\n",
    "print(A.transpose())"
   ]
  },
  {
   "cell_type": "code",
   "execution_count": 0,
   "metadata": {},
   "outputs": [],
   "source": [
    "# Tally\n",
    "encTally=product(BulletinVote) % n^2\n",
    "print(encTally)"
   ]
  },
  {
   "cell_type": "code",
   "execution_count": 0,
   "metadata": {},
   "outputs": [],
   "source": [
    "# Decrypt the tally\n",
    "decVote(encTally)"
   ]
  },
  {
   "cell_type": "code",
   "execution_count": 0,
   "metadata": {},
   "outputs": [],
   "source": [
    "# Check\n",
    "[[intVote(BulletinVote[i]) for i in range(numVoters)].count(j) for j in range(5)]"
   ]
  },
  {
   "cell_type": "code",
   "execution_count": 0,
   "metadata": {},
   "outputs": [],
   "source": []
  },
  {
   "cell_type": "code",
   "execution_count": 0,
   "metadata": {},
   "outputs": [],
   "source": []
  }
 ],
 "metadata": {
  "kernelspec": {
   "display_name": "Python 3 (ipykernel)",
   "language": "python",
   "name": "python3"
  },
  "language_info": {
   "codemirror_mode": {
    "name": "ipython",
    "version": 3
   },
   "file_extension": ".py",
   "mimetype": "text/x-python",
   "name": "python",
   "nbconvert_exporter": "python",
   "pygments_lexer": "ipython3",
   "version": "3.9.18"
  }
 },
 "nbformat": 4,
 "nbformat_minor": 4
}
